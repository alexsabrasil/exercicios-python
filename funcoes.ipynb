{
  "nbformat": 4,
  "nbformat_minor": 0,
  "metadata": {
    "colab": {
      "provenance": [],
      "authorship_tag": "ABX9TyPPXrPkotgWH1pyJUP6/8TF",
      "include_colab_link": true
    },
    "kernelspec": {
      "name": "python3",
      "display_name": "Python 3"
    },
    "language_info": {
      "name": "python"
    }
  },
  "cells": [
    {
      "cell_type": "markdown",
      "metadata": {
        "id": "view-in-github",
        "colab_type": "text"
      },
      "source": [
        "<a href=\"https://colab.research.google.com/github/alexsabrasil/exercicios-python/blob/main/funcoes.ipynb\" target=\"_parent\"><img src=\"https://colab.research.google.com/assets/colab-badge.svg\" alt=\"Open In Colab\"/></a>"
      ]
    },
    {
      "cell_type": "code",
      "execution_count": null,
      "metadata": {
        "id": "hVMSvFJUJfoJ"
      },
      "outputs": [],
      "source": []
    },
    {
      "cell_type": "markdown",
      "source": [
        "**Exercícios Funções e Extras de Python | Programa que fornece a soma de três argumentos\n",
        "python**\n",
        "\n",
        "1. Faça um programa,com uma função que necessite de três argumentos,e que forneça a soma desses três argumentos."
      ],
      "metadata": {
        "id": "XaFhttYSKXkY"
      }
    },
    {
      "cell_type": "code",
      "source": [
        "def soma_tres_argumentos(a, b, c):\n",
        "    return a + b + c\n",
        "\n",
        "# Exemplo de uso\n",
        "resultado = soma_tres_argumentos(1, 2, 3)\n",
        "print(f\"A soma dos três argumentos é: {resultado}\")\n"
      ],
      "metadata": {
        "colab": {
          "base_uri": "https://localhost:8080/"
        },
        "id": "UuWIpbTHKnhD",
        "outputId": "d2859443-1469-49ba-ee19-8fc82d8cf3c0"
      },
      "execution_count": 1,
      "outputs": [
        {
          "output_type": "stream",
          "name": "stdout",
          "text": [
            "A soma dos três argumentos é: 6\n"
          ]
        }
      ]
    },
    {
      "cell_type": "markdown",
      "source": [
        "**Exercício 2 | Funções | Reverso do número**\n",
        "\n",
        "2. Reverso do número.Faça uma função que retorn o reverso de um número inteiro informado. Por exemplo: 127->721."
      ],
      "metadata": {
        "id": "qoD0--UQLQSK"
      }
    },
    {
      "cell_type": "code",
      "source": [
        "def reverso_numero(n):\n",
        "    return int(str(n)[::-1])\n",
        "\n",
        "# Exemplo de uso\n",
        "numero = 127\n",
        "print(f\"O reverso do número {numero} é: {reverso_numero(numero)}\")\n"
      ],
      "metadata": {
        "colab": {
          "base_uri": "https://localhost:8080/"
        },
        "id": "_vXI6admKgUE",
        "outputId": "5579faef-c95a-4265-f97b-6397bfc4ae27"
      },
      "execution_count": 2,
      "outputs": [
        {
          "output_type": "stream",
          "name": "stdout",
          "text": [
            "O reverso do número 127 é: 721\n"
          ]
        }
      ]
    },
    {
      "cell_type": "markdown",
      "source": [
        "**Exercício  | Funções |  Conversão de temperatura (Celsius para Fahrenheit e vice-versa)**\n",
        "\n",
        "3. Escreva um script que pergunta ao usuário se ele deseja converter uma temperatura de grau Celsius para Fahrenheit ou vice-versa. Para cada opção, crie uma função.\n",
        "\n",
        "Plus: Crie uma terceira, que é um menu para o usuário escolher a opção desejada, onde esse menu chama a função de conversão correta."
      ],
      "metadata": {
        "id": "Mo8FM-1UMA6b"
      }
    },
    {
      "cell_type": "code",
      "source": [
        "def celsius_para_fahrenheit(celsius):\n",
        "    return (celsius * 9/5) + 32\n",
        "\n",
        "def fahrenheit_para_celsius(fahrenheit):\n",
        "    return (fahrenheit - 32) * 5/9\n",
        "\n",
        "def menu():\n",
        "    escolha = input(\"Você deseja converter de:\\n1. Celsius para Fahrenheit\\n2. Fahrenheit para Celsius\\nEscolha 1 ou 2: \")\n",
        "    if escolha == '1':\n",
        "        celsius = float(input(\"Insira a temperatura em Celsius: \"))\n",
        "        print(f\"{celsius}°C é igual a {celsius_para_fahrenheit(celsius)}°F\")\n",
        "    elif escolha == '2':\n",
        "        fahrenheit = float(input(\"Insira a temperatura em Fahrenheit: \"))\n",
        "        print(f\"{fahrenheit}°F é igual a {fahrenheit_para_celsius(fahrenheit)}°C\")\n",
        "    else:\n",
        "        print(\"Escolha inválida!\")\n",
        "\n",
        "# Exemplo de uso\n",
        "menu()\n"
      ],
      "metadata": {
        "colab": {
          "base_uri": "https://localhost:8080/"
        },
        "id": "JVi03E-iMe5b",
        "outputId": "31cf19db-8824-481b-cb66-ef03d0b8308f"
      },
      "execution_count": 3,
      "outputs": [
        {
          "output_type": "stream",
          "name": "stdout",
          "text": [
            "Você deseja converter de:\n",
            "1. Celsius para Fahrenheit\n",
            "2. Fahrenheit para Celsius\n",
            "Escolha 1 ou 2: 2\n",
            "Insira a temperatura em Fahrenheit: 5\n",
            "5.0°F é igual a -15.0°C\n"
          ]
        }
      ]
    },
    {
      "cell_type": "markdown",
      "source": [
        "**Exercício  | Funções |  Conversão de moedas estrangeiras**\n",
        "\n",
        "4. Crie um programa que leia quanto dinheiro uma pessoa tem na carteira, e calcule quanto poderia comprar de cada moeda estranheira. Considere a tabela de conversão abaixo:\n",
        "\n",
        "- Dólar Americano: 4,91\n",
        "- Peso Argentino: 0,02\n",
        "- Dólar Australiano: 3,18\n",
        "- Dólar Canadense: 3,64\n",
        "- Franco Suiço: 0,42\n",
        "- Euro: 5,36"
      ],
      "metadata": {
        "id": "mrn5kAruNMnj"
      }
    },
    {
      "cell_type": "code",
      "source": [
        "def conversao_moedas(dinheiro):\n",
        "    taxas_conversao = {\n",
        "        \"Dólar Americano\": 4.91,\n",
        "        \"Peso Argentino\": 0.02,\n",
        "        \"Dólar Australiano\": 3.18,\n",
        "        \"Dólar Canadense\": 3.64,\n",
        "        \"Franco Suiço\": 0.42,\n",
        "        \"Euro\": 5.36,\n",
        "        \"Libra esterlina\": 6.21\n",
        "    }\n",
        "\n",
        "    for moeda, taxa in taxas_conversao.items():\n",
        "        print(f\"Com R$ {dinheiro:.2f}, você pode comprar {dinheiro / taxa:.2f} {moeda}s\")\n",
        "\n",
        "# Exemplo de uso\n",
        "dinheiro = float(input(\"Quanto dinheiro você tem na carteira? R$ \"))\n",
        "conversao_moedas(dinheiro)\n"
      ],
      "metadata": {
        "colab": {
          "base_uri": "https://localhost:8080/"
        },
        "id": "c_DFo4FfOZmz",
        "outputId": "99211acf-158f-4e1a-e709-1845364d2de0"
      },
      "execution_count": 4,
      "outputs": [
        {
          "output_type": "stream",
          "name": "stdout",
          "text": [
            "Quanto dinheiro você tem na carteira? R$ 1000\n",
            "Com R$ 1000.00, você pode comprar 203.67 Dólar Americanos\n",
            "Com R$ 1000.00, você pode comprar 50000.00 Peso Argentinos\n",
            "Com R$ 1000.00, você pode comprar 314.47 Dólar Australianos\n",
            "Com R$ 1000.00, você pode comprar 274.73 Dólar Canadenses\n",
            "Com R$ 1000.00, você pode comprar 2380.95 Franco Suiços\n",
            "Com R$ 1000.00, você pode comprar 186.57 Euros\n",
            "Com R$ 1000.00, você pode comprar 161.03 Libra esterlinas\n"
          ]
        }
      ]
    },
    {
      "cell_type": "markdown",
      "source": [
        "**Exercício  | Funções |  Contar vogais em uma string**\n",
        "\n",
        "5. Crie uma função chamada contar_vogais que recebe uma string como parâmetro. Implemente a lógica para contar o número de vogais na string e retorne o total de vogais. Solicite ao usuário para inserir uma frase e utilize a função para contar as vogais."
      ],
      "metadata": {
        "id": "PIa8zIdpPW9d"
      }
    },
    {
      "cell_type": "code",
      "source": [
        "def contar_vogais(frase):\n",
        "    vogais = \"aeiouAEIOU\"\n",
        "    total_vogais = sum(1 for letra in frase if letra in vogais)\n",
        "    return total_vogais\n",
        "\n",
        "# Exemplo de uso\n",
        "frase = input(\"Digite uma frase: \")\n",
        "print(f\"A frase tem {contar_vogais(frase)} vogais.\")\n"
      ],
      "metadata": {
        "colab": {
          "base_uri": "https://localhost:8080/"
        },
        "id": "eX91kuvqQDnJ",
        "outputId": "e6429261-483f-4477-fc20-75ef6c0f8c76"
      },
      "execution_count": 5,
      "outputs": [
        {
          "output_type": "stream",
          "name": "stdout",
          "text": [
            "Digite uma frase: amo minha mãe\n",
            "A frase tem 5 vogais.\n"
          ]
        }
      ]
    },
    {
      "cell_type": "markdown",
      "source": [
        "**Exercício  | Funções |  Jogo da forca**\n",
        "\n",
        "6. Vamos construir um jogo da forca. Oprograma escolherá aleatoriamente uma palavra secreta de uma lista predefinida. A palavra secreta será representada por espaços em branco, uma para cada letra da palavra. O jogador terá um número limitado de 6 tentativas. Em cada tentativa, o jogador pode fornecer uma letra. Se a letra estiver presente na palavra secreta, ela será revelada nas posições correspondentes. Se a letra não estiver na palavra, uma mensagem de erro deverá ser informada. Após um número máximo de erros, o jogador perde. O jogo continua até que o jogador perde. O jogo continua até que o jogador adivinhe a palavra ou exceda o número maximo de tentativas.\n",
        "\n",
        "- Dica: Você precisará importar uma biblioteca para resolver esse exercício."
      ],
      "metadata": {
        "id": "Ieri2OjLQYTF"
      }
    },
    {
      "cell_type": "code",
      "source": [
        "import random\n",
        "\n",
        "def jogar_forca():\n",
        "    lista_palavras = [\"python\", \"desenvolvimento\", \"programacao\", \"algoritmo\", \"software\"]\n",
        "    palavra_secreta = random.choice(lista_palavras)\n",
        "    palavra_descoberta = [\"_\"] * len(palavra_secreta)\n",
        "    tentativas = 6\n",
        "    letras_usadas = []\n",
        "\n",
        "    while tentativas > 0 and \"_\" in palavra_descoberta:\n",
        "        print(f\"Palavra: {' '.join(palavra_descoberta)}\")\n",
        "        print(f\"Tentativas restantes: {tentativas}\")\n",
        "        letra = input(\"Digite uma letra: \").lower()\n",
        "\n",
        "        if letra in letras_usadas:\n",
        "            print(\"Você já usou essa letra. Tente outra.\")\n",
        "            continue\n",
        "\n",
        "        letras_usadas.append(letra)\n",
        "\n",
        "        if letra in palavra_secreta:\n",
        "            for i, char in enumerate(palavra_secreta):\n",
        "                if char == letra:\n",
        "                    palavra_descoberta[i] = letra\n",
        "        else:\n",
        "            tentativas -= 1\n",
        "            print(\"Letra incorreta!\")\n",
        "\n",
        "    if \"_\" not in palavra_descoberta:\n",
        "        print(f\"Parabéns! Você adivinhou a palavra: {''.join(palavra_descoberta)}\")\n",
        "    else:\n",
        "        print(f\"Você perdeu! A palavra era: {palavra_secreta}\")\n",
        "\n",
        "# Exemplo de uso\n",
        "jogar_forca()\n"
      ],
      "metadata": {
        "colab": {
          "base_uri": "https://localhost:8080/"
        },
        "id": "5XNl34-CR7w0",
        "outputId": "abb34d5f-20c7-4dff-c29d-78e2c534b511"
      },
      "execution_count": 6,
      "outputs": [
        {
          "output_type": "stream",
          "name": "stdout",
          "text": [
            "Palavra: _ _ _ _ _ _ _ _ _ _ _\n",
            "Tentativas restantes: 6\n",
            "Digite uma letra: a\n",
            "Palavra: _ _ _ _ _ a _ a _ a _\n",
            "Tentativas restantes: 6\n",
            "Digite uma letra: p\n",
            "Palavra: p _ _ _ _ a _ a _ a _\n",
            "Tentativas restantes: 6\n",
            "Digite uma letra: r\n",
            "Palavra: p r _ _ r a _ a _ a _\n",
            "Tentativas restantes: 6\n",
            "Digite uma letra: o\n",
            "Palavra: p r o _ r a _ a _ a o\n",
            "Tentativas restantes: 6\n",
            "Digite uma letra: g\n",
            "Palavra: p r o g r a _ a _ a o\n",
            "Tentativas restantes: 6\n",
            "Digite uma letra: m\n",
            "Palavra: p r o g r a m a _ a o\n",
            "Tentativas restantes: 6\n",
            "Digite uma letra: c\n",
            "Parabéns! Você adivinhou a palavra: programacao\n"
          ]
        }
      ]
    }
  ]
}